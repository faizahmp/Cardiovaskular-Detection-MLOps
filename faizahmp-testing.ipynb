{
 "cells": [
  {
   "cell_type": "markdown",
   "metadata": {},
   "source": [
    "Making request"
   ]
  },
  {
   "cell_type": "code",
   "execution_count": 1,
   "metadata": {},
   "outputs": [],
   "source": [
    "import requests\n",
    "import tensorflow as tf\n",
    "import numpy as np\n",
    "import json\n",
    "import base64\n",
    "import requests\n",
    "from pprint import PrettyPrinter\n",
    "import pandas as pd"
   ]
  },
  {
   "cell_type": "code",
   "execution_count": 2,
   "metadata": {},
   "outputs": [
    {
     "name": "stdout",
     "output_type": "stream",
     "text": [
      "{'model_version_status': [{'state': 'AVAILABLE',\n",
      "                           'status': {'error_code': 'OK', 'error_message': ''},\n",
      "                           'version': '1722168646'}]}\n"
     ]
    }
   ],
   "source": [
    "pp = PrettyPrinter()\n",
    "pp.pprint(requests.get(\"https://diplomatic-luck-production.up.railway.app/v1/models/cardiovaskular-model\").json())"
   ]
  },
  {
   "cell_type": "code",
   "execution_count": 3,
   "metadata": {},
   "outputs": [
    {
     "data": {
      "text/html": [
       "<div>\n",
       "<style scoped>\n",
       "    .dataframe tbody tr th:only-of-type {\n",
       "        vertical-align: middle;\n",
       "    }\n",
       "\n",
       "    .dataframe tbody tr th {\n",
       "        vertical-align: top;\n",
       "    }\n",
       "\n",
       "    .dataframe thead th {\n",
       "        text-align: right;\n",
       "    }\n",
       "</style>\n",
       "<table border=\"1\" class=\"dataframe\">\n",
       "  <thead>\n",
       "    <tr style=\"text-align: right;\">\n",
       "      <th></th>\n",
       "      <th>gender</th>\n",
       "      <th>height</th>\n",
       "      <th>weight</th>\n",
       "      <th>ap_hi</th>\n",
       "      <th>ap_lo</th>\n",
       "      <th>cholesterol</th>\n",
       "      <th>gluc</th>\n",
       "      <th>smoke</th>\n",
       "      <th>alco</th>\n",
       "      <th>active</th>\n",
       "      <th>cardio</th>\n",
       "      <th>age_years</th>\n",
       "      <th>bmi</th>\n",
       "      <th>bp_category</th>\n",
       "      <th>bp_category_encoded</th>\n",
       "    </tr>\n",
       "  </thead>\n",
       "  <tbody>\n",
       "    <tr>\n",
       "      <th>0</th>\n",
       "      <td>2</td>\n",
       "      <td>168</td>\n",
       "      <td>62.0</td>\n",
       "      <td>110</td>\n",
       "      <td>80</td>\n",
       "      <td>1</td>\n",
       "      <td>1</td>\n",
       "      <td>0</td>\n",
       "      <td>0</td>\n",
       "      <td>1</td>\n",
       "      <td>0</td>\n",
       "      <td>50</td>\n",
       "      <td>21.96712</td>\n",
       "      <td>Hypertension Stage 1</td>\n",
       "      <td>Hypertension Stage 1</td>\n",
       "    </tr>\n",
       "  </tbody>\n",
       "</table>\n",
       "</div>"
      ],
      "text/plain": [
       "   gender  height  weight  ap_hi  ap_lo  cholesterol  gluc  smoke  alco  \\\n",
       "0       2     168    62.0    110     80            1     1      0     0   \n",
       "\n",
       "   active  cardio  age_years       bmi           bp_category  \\\n",
       "0       1       0         50  21.96712  Hypertension Stage 1   \n",
       "\n",
       "    bp_category_encoded  \n",
       "0  Hypertension Stage 1  "
      ]
     },
     "execution_count": 3,
     "metadata": {},
     "output_type": "execute_result"
    }
   ],
   "source": [
    "df = pd.read_csv('data/cardio_data_processed.csv')\n",
    "df.head(1)"
   ]
  },
  {
   "cell_type": "code",
   "execution_count": 4,
   "metadata": {},
   "outputs": [
    {
     "name": "stdout",
     "output_type": "stream",
     "text": [
      "<class 'pandas.core.frame.DataFrame'>\n",
      "RangeIndex: 68205 entries, 0 to 68204\n",
      "Data columns (total 15 columns):\n",
      " #   Column               Non-Null Count  Dtype  \n",
      "---  ------               --------------  -----  \n",
      " 0   gender               68205 non-null  int64  \n",
      " 1   height               68205 non-null  int64  \n",
      " 2   weight               68205 non-null  float64\n",
      " 3   ap_hi                68205 non-null  int64  \n",
      " 4   ap_lo                68205 non-null  int64  \n",
      " 5   cholesterol          68205 non-null  int64  \n",
      " 6   gluc                 68205 non-null  int64  \n",
      " 7   smoke                68205 non-null  int64  \n",
      " 8   alco                 68205 non-null  int64  \n",
      " 9   active               68205 non-null  int64  \n",
      " 10  cardio               68205 non-null  int64  \n",
      " 11  age_years            68205 non-null  int64  \n",
      " 12  bmi                  68205 non-null  float64\n",
      " 13  bp_category          68205 non-null  object \n",
      " 14  bp_category_encoded  68205 non-null  object \n",
      "dtypes: float64(2), int64(11), object(2)\n",
      "memory usage: 7.8+ MB\n"
     ]
    }
   ],
   "source": [
    "df.info()"
   ]
  },
  {
   "cell_type": "code",
   "execution_count": 5,
   "metadata": {},
   "outputs": [
    {
     "name": "stdout",
     "output_type": "stream",
     "text": [
      "{'gender': 1, 'height': 164, 'weight': 68.0, 'ap_hi': 130, 'ap_lo': 90, 'cholesterol': 2, 'gluc': 2, 'smoke': 0, 'alco': 0, 'active': 1, 'cardio': 1, 'age_years': 64, 'bmi': 25.282569898869724, 'bp_category': 'Hypertension Stage 1', 'bp_category_encoded': 'Hypertension Stage 1'}\n",
      "<class 'dict'>\n"
     ]
    }
   ],
   "source": [
    "row = df.iloc[np.random.randint(0, len(df))]\n",
    "test = row.to_dict()\n",
    "print(test)\n",
    "print(type(test))"
   ]
  },
  {
   "cell_type": "code",
   "execution_count": 6,
   "metadata": {},
   "outputs": [],
   "source": [
    "def int64_feature(value):\n",
    "    return tf.train.Feature(int64_list=tf.train.Int64List(value=[value]))\n",
    "\n",
    "def float64_feature(value):\n",
    "    return tf.train.Feature(float_list=tf.train.FloatList(value=[value]))\n",
    "\n",
    "def string_feature(value):\n",
    "    return tf.train.Feature(\n",
    "        bytes_list=tf.train.BytesList(\n",
    "            value=[bytes(value, 'utf-8')]\n",
    "        ),\n",
    "    )"
   ]
  },
  {
   "cell_type": "code",
   "execution_count": 7,
   "metadata": {},
   "outputs": [],
   "source": [
    "def prepare_json(inputs:dict):\n",
    "    feature_spec = dict()\n",
    "    \n",
    "    for keys, values in inputs.items():\n",
    "        if isinstance(values, int):\n",
    "            feature_spec[keys] = int64_feature(values)\n",
    "        elif isinstance(values, float):\n",
    "            feature_spec[keys] = float64_feature(values)\n",
    "        elif isinstance(values, str):\n",
    "            feature_spec[keys] = string_feature(values)\n",
    "    \n",
    "    example = tf.train.Example(\n",
    "      features=tf.train.Features(feature=feature_spec)).SerializeToString()\n",
    "    result = [{'examples': {'b64': base64.b64encode(example).decode()}}]\n",
    "    \n",
    "    return json.dumps(\n",
    "        {\n",
    "            \"signature_name\":\"serving_default\",\n",
    "            \"instances\": result\n",
    "        }\n",
    "    )"
   ]
  },
  {
   "cell_type": "code",
   "execution_count": 8,
   "metadata": {},
   "outputs": [],
   "source": [
    "def get_predict(text):\n",
    "    json_data = prepare_json(text)\n",
    "    headers = {'Content-Type': 'application/json'}\n",
    "    response = requests.post(\"https://diplomatic-luck-production.up.railway.app/v1/models/cardiovaskular-model:predict\", data=json_data, headers=headers)\n",
    "    predict = response.json()[\"predictions\"][0][0]\n",
    "    return predict"
   ]
  },
  {
   "cell_type": "code",
   "execution_count": 9,
   "metadata": {},
   "outputs": [
    {
     "name": "stdout",
     "output_type": "stream",
     "text": [
      "{'gender': 1, 'height': 164, 'weight': 68.0, 'ap_hi': 130, 'ap_lo': 90, 'cholesterol': 2, 'gluc': 2, 'smoke': 0, 'alco': 0, 'active': 1, 'cardio': 1, 'age_years': 64, 'bmi': 25.282569898869724, 'bp_category': 'Hypertension Stage 1', 'bp_category_encoded': 'Hypertension Stage 1'}\n",
      "PRESENCE\n",
      "Result: '0.648574352' \n"
     ]
    }
   ],
   "source": [
    "predict = get_predict(test)\n",
    "print(test)\n",
    "print(f'PRESENCE' if predict > 0.6 else f'ABSENCE')\n",
    "print(f\"Result: '{predict}' \")\n",
    "# Label (0 = ABSENCE and 1 = PRESENCE)"
   ]
  }
 ],
 "metadata": {
  "kernelspec": {
   "display_name": "tfx-sub2",
   "language": "python",
   "name": "python3"
  },
  "language_info": {
   "codemirror_mode": {
    "name": "ipython",
    "version": 3
   },
   "file_extension": ".py",
   "mimetype": "text/x-python",
   "name": "python",
   "nbconvert_exporter": "python",
   "pygments_lexer": "ipython3",
   "version": "3.9.15"
  }
 },
 "nbformat": 4,
 "nbformat_minor": 2
}
